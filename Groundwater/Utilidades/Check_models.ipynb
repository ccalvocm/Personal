{
 "cells": [
  {
   "cell_type": "code",
   "execution_count": 3,
   "metadata": {},
   "outputs": [
    {
     "ename": "FileNotFoundError",
     "evalue": "[Errno 2] No such file or directory: 'C:\\\\gwv7\\\\models\\\\transitorioCalibracion\\\\modelCalR2.hds'",
     "output_type": "error",
     "traceback": [
      "\u001b[1;31m---------------------------------------------------------------------------\u001b[0m",
      "\u001b[1;31mFileNotFoundError\u001b[0m                         Traceback (most recent call last)",
      "\u001b[1;32m<ipython-input-3-f68d2b2b7b7c>\u001b[0m in \u001b[0;36m<module>\u001b[1;34m\u001b[0m\n\u001b[0;32m     16\u001b[0m \u001b[0mplt\u001b[0m\u001b[1;33m.\u001b[0m\u001b[0mclose\u001b[0m\u001b[1;33m(\u001b[0m\u001b[1;34m\"all\"\u001b[0m\u001b[1;33m)\u001b[0m\u001b[1;33m\u001b[0m\u001b[1;33m\u001b[0m\u001b[0m\n\u001b[0;32m     17\u001b[0m \u001b[1;33m\u001b[0m\u001b[0m\n\u001b[1;32m---> 18\u001b[1;33m \u001b[0mhdobj\u001b[0m \u001b[1;33m=\u001b[0m \u001b[0mfp\u001b[0m\u001b[1;33m.\u001b[0m\u001b[0mutils\u001b[0m\u001b[1;33m.\u001b[0m\u001b[0mHeadFile\u001b[0m\u001b[1;33m(\u001b[0m\u001b[0mstrt\u001b[0m\u001b[1;33m)\u001b[0m\u001b[1;33m\u001b[0m\u001b[1;33m\u001b[0m\u001b[0m\n\u001b[0m\u001b[0;32m     19\u001b[0m \u001b[0mtimes\u001b[0m \u001b[1;33m=\u001b[0m \u001b[0mhdobj\u001b[0m\u001b[1;33m.\u001b[0m\u001b[0mget_times\u001b[0m\u001b[1;33m(\u001b[0m\u001b[1;33m)\u001b[0m\u001b[1;33m\u001b[0m\u001b[1;33m\u001b[0m\u001b[0m\n\u001b[0;32m     20\u001b[0m \u001b[0mhdobj\u001b[0m\u001b[1;33m.\u001b[0m\u001b[0mplot\u001b[0m\u001b[1;33m(\u001b[0m\u001b[0mtotim\u001b[0m\u001b[1;33m=\u001b[0m\u001b[0mtimes\u001b[0m\u001b[1;33m[\u001b[0m\u001b[1;33m-\u001b[0m\u001b[1;36m1\u001b[0m\u001b[1;33m]\u001b[0m\u001b[1;33m,\u001b[0m \u001b[0mcolorbar\u001b[0m\u001b[1;33m=\u001b[0m\u001b[1;32mTrue\u001b[0m\u001b[1;33m,\u001b[0m \u001b[0mcontour\u001b[0m \u001b[1;33m=\u001b[0m \u001b[1;34m\"True\"\u001b[0m \u001b[1;33m,\u001b[0m \u001b[0mvmin\u001b[0m\u001b[1;33m=\u001b[0m\u001b[1;36m0\u001b[0m\u001b[1;33m,\u001b[0m\u001b[0mvmax\u001b[0m\u001b[1;33m=\u001b[0m\u001b[1;36m3000\u001b[0m\u001b[1;33m)\u001b[0m\u001b[1;33m\u001b[0m\u001b[1;33m\u001b[0m\u001b[0m\n",
      "\u001b[1;32m~\\Anaconda3\\lib\\site-packages\\flopy\\utils\\binaryfile.py\u001b[0m in \u001b[0;36m__init__\u001b[1;34m(self, filename, text, precision, verbose, **kwargs)\u001b[0m\n\u001b[0;32m    456\u001b[0m         \u001b[0mself\u001b[0m\u001b[1;33m.\u001b[0m\u001b[0mtext\u001b[0m \u001b[1;33m=\u001b[0m \u001b[0mtext\u001b[0m\u001b[1;33m.\u001b[0m\u001b[0mencode\u001b[0m\u001b[1;33m(\u001b[0m\u001b[1;33m)\u001b[0m\u001b[1;33m\u001b[0m\u001b[1;33m\u001b[0m\u001b[0m\n\u001b[0;32m    457\u001b[0m         \u001b[1;32mif\u001b[0m \u001b[0mprecision\u001b[0m \u001b[1;33m==\u001b[0m \u001b[1;34m'auto'\u001b[0m\u001b[1;33m:\u001b[0m\u001b[1;33m\u001b[0m\u001b[1;33m\u001b[0m\u001b[0m\n\u001b[1;32m--> 458\u001b[1;33m             \u001b[0mprecision\u001b[0m \u001b[1;33m=\u001b[0m \u001b[0mget_headfile_precision\u001b[0m\u001b[1;33m(\u001b[0m\u001b[0mfilename\u001b[0m\u001b[1;33m)\u001b[0m\u001b[1;33m\u001b[0m\u001b[1;33m\u001b[0m\u001b[0m\n\u001b[0m\u001b[0;32m    459\u001b[0m             \u001b[1;32mif\u001b[0m \u001b[0mprecision\u001b[0m \u001b[1;33m==\u001b[0m \u001b[1;34m'unknown'\u001b[0m\u001b[1;33m:\u001b[0m\u001b[1;33m\u001b[0m\u001b[1;33m\u001b[0m\u001b[0m\n\u001b[0;32m    460\u001b[0m                 s = 'Error. Precision could not be determined for {}'.format(\n",
      "\u001b[1;32m~\\Anaconda3\\lib\\site-packages\\flopy\\utils\\binaryfile.py\u001b[0m in \u001b[0;36mget_headfile_precision\u001b[1;34m(filename)\u001b[0m\n\u001b[0;32m    203\u001b[0m \u001b[1;33m\u001b[0m\u001b[0m\n\u001b[0;32m    204\u001b[0m     \u001b[1;31m# Open file, and check filesize to ensure this is not an empty file\u001b[0m\u001b[1;33m\u001b[0m\u001b[1;33m\u001b[0m\u001b[1;33m\u001b[0m\u001b[0m\n\u001b[1;32m--> 205\u001b[1;33m     \u001b[0mf\u001b[0m \u001b[1;33m=\u001b[0m \u001b[0mopen\u001b[0m\u001b[1;33m(\u001b[0m\u001b[0mfilename\u001b[0m\u001b[1;33m,\u001b[0m \u001b[1;34m'rb'\u001b[0m\u001b[1;33m)\u001b[0m\u001b[1;33m\u001b[0m\u001b[1;33m\u001b[0m\u001b[0m\n\u001b[0m\u001b[0;32m    206\u001b[0m     \u001b[0mf\u001b[0m\u001b[1;33m.\u001b[0m\u001b[0mseek\u001b[0m\u001b[1;33m(\u001b[0m\u001b[1;36m0\u001b[0m\u001b[1;33m,\u001b[0m \u001b[1;36m2\u001b[0m\u001b[1;33m)\u001b[0m\u001b[1;33m\u001b[0m\u001b[1;33m\u001b[0m\u001b[0m\n\u001b[0;32m    207\u001b[0m     \u001b[0mtotalbytes\u001b[0m \u001b[1;33m=\u001b[0m \u001b[0mf\u001b[0m\u001b[1;33m.\u001b[0m\u001b[0mtell\u001b[0m\u001b[1;33m(\u001b[0m\u001b[1;33m)\u001b[0m\u001b[1;33m\u001b[0m\u001b[1;33m\u001b[0m\u001b[0m\n",
      "\u001b[1;31mFileNotFoundError\u001b[0m: [Errno 2] No such file or directory: 'C:\\\\gwv7\\\\models\\\\transitorioCalibracion\\\\modelCalR2.hds'"
     ]
    }
   ],
   "source": [
    "# -*- coding: utf-8 -*-\n",
    "\"\"\"\n",
    "Created on Mon Jan  6 11:25:22 2020\n",
    "\n",
    "@author: ccc\n",
    "\"\"\"\n",
    "\n",
    "import flopy as fp\n",
    "import matplotlib.pyplot as plt\n",
    "\n",
    "\n",
    "mf_dir = r'C:\\gwv7\\models\\transitorioCalibracion'\n",
    "strt = mf_dir + '\\modelCalR2.hds'\n",
    "\n",
    "\n",
    "plt.close(\"all\")\n",
    "\n",
    "hdobj = fp.utils.HeadFile(strt)\n",
    "times = hdobj.get_times()\n",
    "hdobj.plot(totim=times[-1], colorbar=True, contour = \"True\" , vmin=0,vmax=3000)\n",
    "plt.title(\"Layer 1\")\n",
    "plt.show()\n",
    "\n",
    "\n",
    "\n",
    "ml = fp.modflow.Modflow.load(mf_dir+\"\\modelCalR2.nam\", model_ws='', verbose=False,\n",
    "                               check=False, exe_name=\"mf2k\", version = \"mf2k\"   )\n",
    "\n",
    "\n",
    "ml.check(verbose=True, level=12)\n",
    "ml.plot(colorbar=True, contour = \"True\")\n",
    "\n",
    "\n",
    "\n",
    "#%%\n",
    "\n",
    "#sw_dir = r'C:\\gwv7\\models\\Peine\\Transitorio'\n",
    "#sw_dir = r'C:\\gwv7\\models\\Quelana\\Transitorio'\n",
    "sw_dir = r'C:\\gwv7\\models\\puntaBrava\\Transitorio'\n",
    "\n",
    "sw = fp.seawat.swt.Seawat.load(sw_dir+\"\\PuntaBrava.nam\", model_ws='', verbose=False, exe_name=\"swt_v4x64\", version = \"seawat\"   )\n",
    "\n",
    "sw.check(verbose=True, level=12)"
   ]
  },
  {
   "cell_type": "code",
   "execution_count": null,
   "metadata": {},
   "outputs": [],
   "source": []
  }
 ],
 "metadata": {
  "kernelspec": {
   "display_name": "Python 3",
   "language": "python",
   "name": "python3"
  }
 },
 "nbformat": 4,
 "nbformat_minor": 2
}
